{
 "cells": [
  {
   "cell_type": "code",
   "execution_count": 41,
   "id": "9935943f-8b74-4d39-9a9e-7fbcc49d9c18",
   "metadata": {},
   "outputs": [],
   "source": [
    "import re\n",
    "\n",
    "def extract_function_signatures(code):\n",
    "    signatures = {}\n",
    "    matches = re.finditer(r\"define\\s+([^{]+?)\\s+@(\\w+)\\(([^)]*)\\)\", code)\n",
    "    for match in matches:\n",
    "        ret_type, func_name, args = match.groups()\n",
    "\n",
    "        # Clean argument types\n",
    "        arg_list = []\n",
    "        for arg in args.split(','):\n",
    "            parts = arg.strip().split()\n",
    "            if parts:\n",
    "                # Drop variable name like %0\n",
    "                if parts[-1].startswith('%'):\n",
    "                    arg_list.append(' '.join(parts[:-1]))\n",
    "                else:\n",
    "                    arg_list.append(' '.join(parts))\n",
    "        cleaned_args = ', '.join(arg_list)\n",
    "\n",
    "        signatures[func_name] = f\"declare {ret_type} @{func_name}({cleaned_args})\"\n",
    "    return signatures\n"
   ]
  },
  {
   "cell_type": "code",
   "execution_count": 42,
   "id": "a08ad2bf-1fe9-40e8-b847-3ea5c28659e1",
   "metadata": {},
   "outputs": [],
   "source": [
    "import os\n",
    "import re\n",
    "import subprocess\n",
    "from collections import defaultdict\n",
    "\n",
    "def extract_header_and_functions(code):\n",
    "    header_match = re.search(r\"^(.*?)(?=^define\\s)\", code, re.DOTALL | re.MULTILINE)\n",
    "    header = header_match.group(1).strip() if header_match else \"\"\n",
    "    function_blocks = re.findall(r\"(define\\s+[^{]+{[^}]*})\", code, re.DOTALL)\n",
    "    return header, function_blocks\n",
    "\n",
    "def get_function_name(func_block):\n",
    "    match = re.search(r\"@([\\w\\d_]+)\\(\", func_block)\n",
    "    return match.group(1) if match else None\n",
    "\n",
    "def get_called_functions(func_block):\n",
    "    return set(re.findall(r\"call.*@([\\w\\d_]+)\\(\", func_block))\n",
    "\n",
    "def partition_and_fix_declarations(input_ll_path, output_dir):\n",
    "    os.makedirs(output_dir, exist_ok=True)\n",
    "    with open(input_ll_path, \"r\") as f:\n",
    "        code = f.read()\n",
    "\n",
    "    header, functions = extract_header_and_functions(code)\n",
    "\n",
    "    # ✅ Extract all actual function signatures\n",
    "    func_signatures = extract_function_signatures(code)\n",
    "\n",
    "    defined_funcs = {}\n",
    "    calls_in_func = defaultdict(set)\n",
    "\n",
    "    for func in functions:\n",
    "        name = get_function_name(func)\n",
    "        if name:\n",
    "            defined_funcs[name] = func\n",
    "            calls_in_func[name] = get_called_functions(func)\n",
    "\n",
    "    output_paths = []\n",
    "\n",
    "    for func_name, func_body in defined_funcs.items():\n",
    "        output_path = os.path.join(output_dir, f\"{func_name}.ll\")\n",
    "\n",
    "        declared = []\n",
    "        for called in calls_in_func[func_name]:\n",
    "            if called not in defined_funcs or called == func_name:\n",
    "                continue\n",
    "            # ✅ Use actual declaration if available\n",
    "            decl = func_signatures.get(called)\n",
    "            if decl:\n",
    "                declared.append(decl)\n",
    "\n",
    "        with open(output_path, \"w\") as f:\n",
    "            f.write(header + \"\\n\\n\")\n",
    "            for d in declared:\n",
    "                f.write(d + \"\\n\")\n",
    "            f.write(\"\\n\" + func_body + \"\\n\")\n",
    "\n",
    "        output_paths.append(output_path)\n",
    "        print(f\"[✔] Wrote {output_path} with {len(declared)} declarations.\")\n",
    "\n",
    "    return output_paths\n",
    "\n"
   ]
  },
  {
   "cell_type": "code",
   "execution_count": 43,
   "id": "2bae8724-d907-407f-85a0-ab641902db0d",
   "metadata": {},
   "outputs": [
    {
     "name": "stdout",
     "output_type": "stream",
     "text": [
      "[✔] Wrote out_parts/square.ll with 0 declarations.\n",
      "[✔] Wrote out_parts/increment.ll with 0 declarations.\n",
      "[✔] Wrote out_parts/main.ll with 2 declarations.\n"
     ]
    }
   ],
   "source": [
    "input_ll = \"demo.ll\"\n",
    "output_dir = \"out_parts\"\n",
    "part_files = partition_and_fix_declarations(input_ll, output_dir)\n"
   ]
  },
  {
   "cell_type": "code",
   "execution_count": 44,
   "id": "f0cf5812-f80b-41ce-9f00-9124aad6747b",
   "metadata": {},
   "outputs": [],
   "source": [
    "import re\n",
    "\n",
    "def normalize_ll_code(code: str) -> str:\n",
    "    \"\"\"\n",
    "    Normalize LLVM IR code:\n",
    "    - Remove comments, ModuleID, source_filename, and datalayout\n",
    "    - Remove extra whitespace and blank lines\n",
    "    - Sort declare statements\n",
    "    - Preserve define order\n",
    "    \"\"\"\n",
    "    code = re.sub(r\"^\\s*;.*\", \"\", code, flags=re.MULTILINE)\n",
    "    code = re.sub(r'^\\s*source_filename\\s*=.*', '', code, flags=re.MULTILINE)\n",
    "    code = re.sub(r'^\\s*target datalayout\\s*=.*', '', code, flags=re.MULTILINE)\n",
    "    code = \"\\n\".join(line.strip() for line in code.splitlines() if line.strip())\n",
    "    \n",
    "    declares = []\n",
    "    defines = []\n",
    "    for line in code.splitlines():\n",
    "        if line.startswith(\"declare\"):\n",
    "            declares.append(line.strip())\n",
    "        else:\n",
    "            defines.append(line)\n",
    "\n",
    "    declares = sorted(declares)\n",
    "    triple_match = re.search(r'(target triple\\s*=\\s*\".*?\")', code)\n",
    "    triple_line = triple_match.group(1) if triple_match else None\n",
    "\n",
    "    normalized = []\n",
    "    if triple_line:\n",
    "        normalized.append(triple_line)\n",
    "    normalized.extend(declares)\n",
    "    normalized.extend(defines)\n",
    "\n",
    "    return \"\\n\".join(normalized)\n"
   ]
  },
  {
   "cell_type": "code",
   "execution_count": 45,
   "id": "2abf6efe-fc25-48dd-985b-a78dbc32380a",
   "metadata": {},
   "outputs": [],
   "source": [
    "import hashlib\n",
    "import shutil\n",
    "\n",
    "def compute_file_hash(file_path):\n",
    "    with open(file_path, 'r') as f:\n",
    "        code = f.read()\n",
    "    normalized_code = normalize_ll_code(code)\n",
    "    return hashlib.sha256(normalized_code.encode('utf-8')).hexdigest()\n",
    "\n"
   ]
  },
  {
   "cell_type": "code",
   "execution_count": 46,
   "id": "8fe857cd-f01f-488f-ad33-a5680f165bfa",
   "metadata": {},
   "outputs": [],
   "source": [
    "CACHE_DIR = \"obj_cache\"\n",
    "os.makedirs(CACHE_DIR, exist_ok=True)\n",
    "\n",
    "def compile_with_cache(ll_path):\n",
    "    file_hash = compute_file_hash(ll_path)\n",
    "    cached_obj = os.path.join(CACHE_DIR, f\"{file_hash}.o\")\n",
    "\n",
    "    # If cached object exists, reuse it\n",
    "    if os.path.exists(cached_obj):\n",
    "        print(f\"[🌀] Cache hit: {ll_path} → {cached_obj}\")\n",
    "    else:\n",
    "        result = subprocess.run(\n",
    "            [\"llc\", ll_path, \"-filetype=obj\", \"-o\", cached_obj],\n",
    "            capture_output=True, text=True\n",
    "        )\n",
    "        if result.returncode != 0:\n",
    "            print(f\"[✘] Compile failed: {ll_path}\\n{result.stderr}\")\n",
    "            return None\n",
    "        print(f\"[✔] Compiled & cached: {ll_path} → {cached_obj}\")\n",
    "\n",
    "    # Copy cached object to the output folder\n",
    "    base = os.path.splitext(os.path.basename(ll_path))[0]\n",
    "    o_path = os.path.join(os.path.dirname(ll_path), f\"{base}.o\")\n",
    "    shutil.copyfile(cached_obj, o_path)\n",
    "    return o_path\n"
   ]
  },
  {
   "cell_type": "code",
   "execution_count": 47,
   "id": "b0d43211-c350-4544-8132-f47bb51dc024",
   "metadata": {},
   "outputs": [],
   "source": [
    "from multiprocessing import Pool\n",
    "\n",
    "def parallel_compile_ll_with_cache(ll_files, num_workers=None):\n",
    "    if num_workers is None:\n",
    "        num_workers = min(len(ll_files), os.cpu_count())\n",
    "    with Pool(num_workers) as pool:\n",
    "        object_files = pool.map(compile_with_cache, ll_files)\n",
    "    return [f for f in object_files if f]\n"
   ]
  },
  {
   "cell_type": "code",
   "execution_count": 48,
   "id": "8bc44401-f0c8-4bc5-915e-606517bb64a9",
   "metadata": {},
   "outputs": [
    {
     "name": "stdout",
     "output_type": "stream",
     "text": [
      "[🌀] Cache hit: out_parts/square.ll → obj_cache/016609967ae7315418e851b478458aa0a124c982ba63ce37791c430b655a7c0c.o[🌀] Cache hit: out_parts/increment.ll → obj_cache/f1f1d3a1646f32af048bf5cd74d32243fdd253eb5ce4c3993de35d5c586888cd.o[🌀] Cache hit: out_parts/main.ll → obj_cache/0b84befafe0532807469e965defbf36224da434a5caff224e40ab9468c219ab5.o\n",
      "\n",
      "\n"
     ]
    }
   ],
   "source": [
    "object_files = parallel_compile_ll_with_cache(part_files)\n"
   ]
  },
  {
   "cell_type": "code",
   "execution_count": 12,
   "id": "d1324374-e673-424a-8523-76a970aea96b",
   "metadata": {},
   "outputs": [],
   "source": [
    "import os\n",
    "\n",
    "def get_exec_name_from_ll(ll_path):\n",
    "    base = os.path.splitext(os.path.basename(ll_path))[0]\n",
    "    return f\"{base}_exec\"\n"
   ]
  },
  {
   "cell_type": "code",
   "execution_count": 13,
   "id": "b664b983-e24e-4607-a0c1-19902bdb8734",
   "metadata": {},
   "outputs": [],
   "source": [
    "def link_objects(object_files, output_exec=\"final_exec\"):\n",
    "    result = subprocess.run([\"clang\"] + object_files + [\"-o\", output_exec], capture_output=True, text=True)\n",
    "    if result.returncode == 0:\n",
    "        print(f\"[✅] Linked executable created: {output_exec}\")\n",
    "    else:\n",
    "        print(f\"[✘] Linking failed:\\n{result.stderr}\")\n"
   ]
  },
  {
   "cell_type": "code",
   "execution_count": 14,
   "id": "1aa095e4-407e-47d0-92dc-8377d9722abf",
   "metadata": {},
   "outputs": [
    {
     "name": "stdout",
     "output_type": "stream",
     "text": [
      "[✅] Linked executable created: demo2_exec\n"
     ]
    }
   ],
   "source": [
    "exec_name = get_exec_name_from_ll(\"demo2.ll\")  # replace \"demo.ll\" with your actual input file name\n",
    "link_objects(object_files, exec_name)\n"
   ]
  },
  {
   "cell_type": "code",
   "execution_count": null,
   "id": "51a778f1-72b4-4689-98bb-f4f74ab19c1f",
   "metadata": {},
   "outputs": [],
   "source": []
  },
  {
   "cell_type": "code",
   "execution_count": null,
   "id": "d11d3d58-8f6e-4b82-a539-af3fc14b6e44",
   "metadata": {},
   "outputs": [],
   "source": []
  }
 ],
 "metadata": {
  "kernelspec": {
   "display_name": "Python 3 (ipykernel)",
   "language": "python",
   "name": "python3"
  },
  "language_info": {
   "codemirror_mode": {
    "name": "ipython",
    "version": 3
   },
   "file_extension": ".py",
   "mimetype": "text/x-python",
   "name": "python",
   "nbconvert_exporter": "python",
   "pygments_lexer": "ipython3",
   "version": "3.12.3"
  }
 },
 "nbformat": 4,
 "nbformat_minor": 5
}
